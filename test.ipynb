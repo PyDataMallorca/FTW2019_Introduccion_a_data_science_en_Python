{
 "cells": [
  {
   "cell_type": "code",
   "execution_count": null,
   "metadata": {},
   "outputs": [],
   "source": [
    "try:\n",
    "    import numpy as np\n",
    "    print(f\"numpy version {np.__version__}\")\n",
    "except:\n",
    "    print(\"Parece que Numpy no está instalado correctamente\")"
   ]
  },
  {
   "cell_type": "code",
   "execution_count": null,
   "metadata": {},
   "outputs": [],
   "source": [
    "try:\n",
    "    import pandas as pd\n",
    "    print(f\"pandas version {pd.__version__}\")\n",
    "except:\n",
    "    print(\"Parece que Pandas no está instalado correctamente\")"
   ]
  },
  {
   "cell_type": "code",
   "execution_count": null,
   "metadata": {},
   "outputs": [],
   "source": [
    "try:\n",
    "    import matplotlib as mpl\n",
    "    print(f\"matplotlib version {mpl.__version__}\")\n",
    "except:\n",
    "    print(\"Parece que Matplotlib no está instalado correctamente\")"
   ]
  },
  {
   "cell_type": "code",
   "execution_count": null,
   "metadata": {},
   "outputs": [],
   "source": [
    "try:\n",
    "    import sklearn as skl\n",
    "    print(f\"sklearn version {skl.__version__}\")\n",
    "except:\n",
    "    print(\"Parece que Scikit-Learn no está instalado correctamente\")"
   ]
  },
  {
   "cell_type": "code",
   "execution_count": null,
   "metadata": {},
   "outputs": [],
   "source": [
    "try:\n",
    "    import seaborn as sns\n",
    "    print(f\"seaborn version {sns.__version__}\")\n",
    "except:\n",
    "    print(\"Parece que Seaborn no está instalado correctamente\")"
   ]
  }
 ],
 "metadata": {
  "kernelspec": {
   "display_name": "Python 3",
   "language": "python",
   "name": "python3"
  },
  "language_info": {
   "codemirror_mode": {
    "name": "ipython",
    "version": 3
   },
   "file_extension": ".py",
   "mimetype": "text/x-python",
   "name": "python",
   "nbconvert_exporter": "python",
   "pygments_lexer": "ipython3",
   "version": "3.6.4"
  }
 },
 "nbformat": 4,
 "nbformat_minor": 2
}
