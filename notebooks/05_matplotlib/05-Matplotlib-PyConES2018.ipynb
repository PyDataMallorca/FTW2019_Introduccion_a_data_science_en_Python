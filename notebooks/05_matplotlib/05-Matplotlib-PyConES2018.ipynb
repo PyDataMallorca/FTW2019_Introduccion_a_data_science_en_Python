{
 "cells": [
  {
   "cell_type": "markdown",
   "metadata": {},
   "source": [
    "# Introducción a Matplotlib"
   ]
  },
  {
   "cell_type": "markdown",
   "metadata": {},
   "source": [
    "[`Matplotlib`](https://matplotlib.org/gallery/index.html) es el módulo open source de creación de visualizaciones más famoso en Python, capaz de crear una gran variedad de gráficos diferentes y ofrecer control total sobre como queremos representar nuestros datos. \n",
    "\n",
    "Esta librería, además de permitir exportar los gráficos en diferentes formatos, esta pensada para integrarse perfectamente en jupyter notebooks y consolas como `IPython`."
   ]
  },
  {
   "cell_type": "markdown",
   "metadata": {},
   "source": [
    "Pese a haber diferentes formas de crear gráficos en `matplotlib`, este tutorial estara enfocado en el módulo `pyplot` de la librería matplotlib. Este módulo pretende ofrecer una interfaz simple con la que poder desarrollar rápidamente una gran variedad de gráficos de forma interactiva, de forma similar a la interfaz ofrecida por MATLAB."
   ]
  },
  {
   "cell_type": "markdown",
   "metadata": {},
   "source": [
    "\n",
    "## Index\n",
    "1. **[Primeros pasos con plt.plot](#1.-Primeros-pasos-con-plt.plot)**\n",
    "\n",
    "2. **[Configuración del gráfico](#2.-Configuración-del-gráfico)**\n",
    "   * [2.1 Modificando el aspecto de los ejes](#2.1-Modificando-el-aspecto-de-los-ejes)\n",
    "   * [2.2 Resaltando partes del gráfico](#2.2-Resaltando-partes-del-gráfico)\n",
    "   * [2.3 Configurando el texto del gráfico](#2.3-Configurando-el-texto-del-gráfico)\n",
    "\n",
    "3. **[Representando series de datos](#3.-Representando-series-de-datos)**\n",
    "   * [3.1 plt.plot en profundidad](#3.1-plt.plot-en-profundidad)\n",
    "   * [3.2 Diagramas de caja](#3.2-Diagramas-de-caja)\n",
    "\n",
    "4. **[Gráficos de barras](#4.-Gráficos-de-barras)**\n",
    "   * [4.1 Diagrama de barras](#4.1-Diagrama-de-barras)\n",
    "   * [4.2 Histogramas](#4.2-Histogramas)\n",
    "\n",
    "5. **[Gráficos 2D](#5.-Gráficos-2D)**\n",
    "   * [5.1 Scatter Plots](#5.1-Scatter-Plots)\n",
    "   * [5.2 Gráficos de contorno](#5.2-Gráficos-de-contorno)"
   ]
  },
  {
   "cell_type": "markdown",
   "metadata": {},
   "source": [
    "## [1.](#Index) Primeros pasos con plt.plot"
   ]
  },
  {
   "cell_type": "markdown",
   "metadata": {},
   "source": [
    "Empezaremos invocando el comando mágico [`%matplotlib`](https://ipython.readthedocs.io/en/stable/interactive/magics.html) para seleccionar el notebook como backend en el que visualizar los gráficos."
   ]
  },
  {
   "cell_type": "code",
   "execution_count": null,
   "metadata": {},
   "outputs": [],
   "source": [
    "%matplotlib inline"
   ]
  },
  {
   "cell_type": "code",
   "execution_count": null,
   "metadata": {},
   "outputs": [],
   "source": [
    "import matplotlib.pyplot as plt\n",
    "import numpy as np"
   ]
  },
  {
   "cell_type": "markdown",
   "metadata": {},
   "source": [
    "Absolutamente todo lo que vamos a usar en este tutorial y que está relacionado con `matplotlib.pyplot` lo podréis encontrar documentado y detallado [aquí](http://matplotlib.sourceforge.net/api/pyplot_api.html#module-matplotlib.pyplot).\n",
    "\n",
    "Para que quede claro desde un principio, las diferentes zonas de un gráfico donde se dibujaran cosás o sobre las que se interactuará serán:"
   ]
  },
  {
   "cell_type": "markdown",
   "metadata": {},
   "source": [
    "<img src=\"../../images/05_01_mpl.jpeg\" width=\"600px\">"
   ]
  },
  {
   "cell_type": "markdown",
   "metadata": {},
   "source": [
    "\n",
    "\n",
    "* `Figure`, que es una instancia de [`matplotlib.figure.Figure`](http://matplotlib.sourceforge.net/api/figure_api.html#matplotlib.figure.Figure). Y es la ventana donde irá el o los gráficos en sí:\n",
    "\n",
    "* `Axes`, que es una instancia de [`matplotlib.axes.Axes`](http://matplotlib.sourceforge.net/api/axes_api.html#matplotlib.axes.Axes), que es el gráfico en sí donde se dibujará todo lo que le digamos y está localizada dentro de una figure.\n",
    "\n",
    "* `Title`: Título del gráfico.\n",
    "\n",
    "* `Line`: Línea que representa valores de una serie de datos.\n",
    "\n",
    "* `Marker`: Símbolo que representa un punto en una serie de datos.\n",
    "\n",
    "* `Grid`: Rejilla dibujada sobre el gráfico que ayuda a resaltar los valores de los ejes.\n",
    "\n",
    "* `Major ticks`: Grupo de lineas equidistantes que representan valores en los ejes de coordenadas. La `grid` se ubica sobre ellos.\n",
    "\n",
    "* `Major tick labels`: Texto que representa los valores de referencia en los `major ticks`.\n",
    "\n",
    "* `Minor ticks`: Grupo de lineas equidistantes que representan valores en los ejes de coordenadas y que se ubican entre los `major ticks` suelen tener un tamaño mas pequeño que estos.\n",
    "\n",
    "* `Minor tick labels`: Texto que representa los valores de referencia en los `minor ticks`.\n",
    "\n",
    "* `X axis label`: Leyenda del eje x. Suele indicar el tipo de datos representado en este eje y las unidades con las que está representado.\n",
    "\n",
    "* `Y axis label`: Leyenda del eje y. Suele indicar el tipo de datos representado en este eje y las unidades con las que está representado.\n",
    "\n",
    "* `Legend`: Texto que contiene información sobre las series de datos representadas. Generalmente mapea el color y el tipo de marcador asignado a cada serie de datos representada.\n",
    "\n",
    "* `Spines`: Líneas de contorno del gráfico.\n",
    "\n",
    "Para lo primero (`figure`) usaremos la palabra ‘ventana’ mientras que para lo segundo (`axes`) usaremos la palabra ‘gráfico’."
   ]
  },
  {
   "cell_type": "markdown",
   "metadata": {},
   "source": [
    "Empezaremos este tutorial hablando de `pyplot.plot()`, una funcion que nos permite representar series de datos unidimensionales."
   ]
  },
  {
   "cell_type": "code",
   "execution_count": null,
   "metadata": {},
   "outputs": [],
   "source": [
    "plt.plot?"
   ]
  },
  {
   "cell_type": "code",
   "execution_count": null,
   "metadata": {
    "scrolled": false
   },
   "outputs": [],
   "source": [
    "import numpy as np\n",
    "y = np.random.random(10)\n",
    "x = [0, 1, 2, 3, 4, 5, 6, 7, 8, 9]"
   ]
  },
  {
   "cell_type": "markdown",
   "metadata": {},
   "source": [
    "Por ejemplo, podemos representar los valores de dos arrays llamando a la función plot de la siguiente forma."
   ]
  },
  {
   "cell_type": "code",
   "execution_count": null,
   "metadata": {},
   "outputs": [],
   "source": [
    "plt.plot(x, y)"
   ]
  },
  {
   "cell_type": "markdown",
   "metadata": {},
   "source": [
    "En este caso hemos pasado como parámetros un `numpy` array y una `list`, pero también seria posible pasar como parámetro otros objetos como `tuples` o columnas de un `DataFrame`, como mostraremos a continuación."
   ]
  },
  {
   "cell_type": "markdown",
   "metadata": {},
   "source": [
    "Para los ejercicios de ejemplo utilizaremos el Iris Dataset que presentamos en el apartado de Pandas. Así que empezaremos por cargar los datos y simplificar un poco el nombre de las diferentes columnas."
   ]
  },
  {
   "cell_type": "code",
   "execution_count": null,
   "metadata": {},
   "outputs": [],
   "source": [
    "import pandas as pd\n",
    "df = pd.read_csv('../../data/04_01_iris.csv')\n",
    "df.columns = [\"sepal_length\", \"sepal_width\", \"petal_length\", \"petal_width\", \"species\"]\n",
    "df.head()"
   ]
  },
  {
   "cell_type": "code",
   "execution_count": null,
   "metadata": {},
   "outputs": [],
   "source": [
    "plt.plot(tuple(x), df.iloc[:10, 2])"
   ]
  },
  {
   "cell_type": "markdown",
   "metadata": {},
   "source": [
    "`plt.plot()` Ofrece la posibilidad de customizar todos los atributos visuales del gráfico. Por ejemplo, si queremos cambiar el color de la linea dibujada o su grosor, es posible hacerlo modificando los parámetros `color` y `linewitdh` respectivamente."
   ]
  },
  {
   "cell_type": "code",
   "execution_count": null,
   "metadata": {},
   "outputs": [],
   "source": [
    "plt.plot(x, y, color=\"green\", linewidth=4)"
   ]
  },
  {
   "cell_type": "markdown",
   "metadata": {},
   "source": [
    "Otro de los aspectos que `plt.plot` permite configurar, es como se representan cada uno de los valores y las lineas que los unen. El parámetro `marker`[(ver referencia)](https://matplotlib.org/examples/lines_bars_and_markers/marker_reference.html) controla como se representan cada uno de los puntos, mientras que `linestyle`[(ver referencia)](https://matplotlib.org/gallery/lines_bars_and_markers/line_styles_reference.html) permite configurar como se muestras las uniones entre ellos."
   ]
  },
  {
   "cell_type": "code",
   "execution_count": null,
   "metadata": {},
   "outputs": [],
   "source": [
    "plt.plot(x, y, marker=\"o\", linestyle=\"--\")"
   ]
  },
  {
   "cell_type": "markdown",
   "metadata": {},
   "source": [
    "## [2.](#Index) Configuración del gráfico"
   ]
  },
  {
   "cell_type": "markdown",
   "metadata": {},
   "source": [
    "En esta sección explicaremos como modificar algunos aspectos visuales del gráfico. Si lo que queremos es modificar el tamaño de la ventana, vamos a modificar el parámetro `figsize` al crear una nueva ventana con `plt.figure`."
   ]
  },
  {
   "cell_type": "code",
   "execution_count": null,
   "metadata": {},
   "outputs": [],
   "source": [
    "width = 3\n",
    "height = 1\n",
    "plt.figure(figsize=(width, height))\n",
    "plt.plot(np.random.random(10))"
   ]
  },
  {
   "cell_type": "markdown",
   "metadata": {},
   "source": [
    "### [2.1](#Index) Modificando el aspecto de los ejes"
   ]
  },
  {
   "cell_type": "markdown",
   "metadata": {},
   "source": [
    "En los ejemplos de este tutorial, el área del gráfico es un espacio rectangular sobre el que representamos los datos.\n",
    "\n",
    "Podemos colocar una rejilla que nos ayude a identificar mejor las áreas del gráfico mediante `plt.grid()` (en un gráfico polar deberemos usar `plt.rgrid()` y `plt.thetagrids()`).\n",
    "\n",
    "Si os habéis fijado, `matplotlib` dibuja los ejes de forma que se ajusten al gráfico pero quizá eso no es lo que nos interese en algunos momentos, para ello podemos hacer uso de `plt.axis()`. Nos permite definir la longitud de los ejes, si queremos que aparezcan los mismos, si queremos que estos estén escalados,… \n",
    "\n",
    "Si solo nos interesa configurar uno de los ejes y dejar que el otro lo maneje `matplotlib` podemos usar `plt.xlim()`, `plt.xscale()`, `plt.ylim()` y `plt.yscale()`.\n",
    "\n",
    "Si queremos dejar el eje x o el eje y con escala logarítmica podemos usar, respectivamente, `plt.semilogx()` o `plt.semilogy()`.\n",
    "\n",
    "Podemos dibujar un segundo eje x o un segundo eje y usando `plt.twinx()` o `plt.twiny()`, respectivamente. También podemos establecer unos márgenes alrededor de los límites de los ejes usando `plt.margins()`. \n",
    "\n",
    "Por último, podemos etiquetar nuestros ejes con `plt.xlabel()` y `plt.ylabel()`. Veamos un ejemplo de algunas de estas cosas:"
   ]
  },
  {
   "cell_type": "code",
   "execution_count": null,
   "metadata": {},
   "outputs": [],
   "source": [
    "plt.plot(np.arange(100), 'b')  # Dibujamos una línea recta azul\n",
    "plt.grid() #Activamos la rejilla\n",
    "plt.xlabel('Valores de x')  # Ponemos etiqueta al eje x\n",
    "plt.ylabel(u'Línea azul')  # Ponemos etiqueta al eje y\n",
    "plt.twinx()  # Creamos un segundo eje y\n",
    "plt.plot(np.exp(np.linspace(0,5,100)), 'g')  # Dibuja una exponencial de 0 a 5 con la y representada en el segundo eje y\n",
    "plt.ylabel(u'Línea verde')  # Ponemos etiqueta al segundo eje y\n",
    "plt.xlim(-10,110)  # Limitamos los valores del eje x para que vayan desde -10 a 110\n"
   ]
  },
  {
   "cell_type": "markdown",
   "metadata": {},
   "source": [
    "### [2.2](#Index) Resaltando partes del gráfico"
   ]
  },
  {
   "cell_type": "markdown",
   "metadata": {},
   "source": [
    "Ahora vamos a ver `plt.axvline()`, `plt.axvspan()`, `plt.axhline()`, `plt.axhspan()`. ¿Y para qué sirven estas 'cosas'? Pensad que, por ejemplo, queréis resaltar una zona de vuestro gráfico para focalizar la atención en esa área. Eso lo podríamos hacer usando lo anterior. \n",
    "\n",
    "- `plt.axvline()` y `plt.axhline()` dibujan líneas verticales y horizontales en la x o en la y que le digamos. \n",
    "- `plt.axvspan()` y `plt.axhspan()` dibujan recuadros entre las coordenadas x o y que queramos."
   ]
  },
  {
   "cell_type": "code",
   "execution_count": null,
   "metadata": {},
   "outputs": [],
   "source": [
    "plt.scatter(np.random.randn(1000), np.random.randn(1000))  # Dibujamos un scatterplot de valores aleatorios\n",
    "plt.axvline(-0.5, color='g')  # Dibujamos una línea vertical verde centrada en x = -0.5\n",
    "plt.axvline(-0.5, color='g')  # Dibujamos una línea vertical verde centrada en x = 0.5\n",
    "plt.axhline(-0.5, color='g')  # Dibujamos una línea horizontal verde centrada en x = -0.5\n",
    "plt.axhline(-0.5, color='g')  # Dibujamos una línea horizontal verde centrada en x = 0.5\n",
    "#  Dibujamos un recuadro azul vertical entre x[-0.5,0.5] con transparencia 0.25\n",
    "plt.axvspan(-0.5,0.5, alpha=0.25) \n",
    "#  Dibujamos un recuadro azul horizontal entre x[-0.5,0.5] con transparencia 0.25\n",
    "plt.axhspan(-0.5,0.5, alpha=0.25)  "
   ]
  },
  {
   "cell_type": "markdown",
   "metadata": {},
   "source": [
    "### [2.3](#Index) Configurando el texto del gráfico"
   ]
  },
  {
   "cell_type": "markdown",
   "metadata": {},
   "source": [
    "¿Y como podemos controlar el texto básico sobre el gráfico? Hay muchas formas de meter texto y controlar las etiquetas de forma básica y sencilla. En algunos momentos hemos visto `plt.legend()`, también existe `plt.figlegend()`. Yo siempre uso `plt.legend()` el 100% de las veces. Para usos avanzados podéis mirar [este enlace](http://stackoverflow.com/a/4701285) y este [otro enlace](http://matplotlib.sourceforge.net/users/legend_guide.html). \n",
    "\n",
    "Si queremos poner un título al gráfico podemos usar `plt.title()` y `plt.suptitle()`.\n",
    "\n",
    "Si queremos poner título a los ejes podemos usar `plt.xlabel()` y `plt.ylabel()` para los ejes x e y, respectivamente. \n",
    "\n",
    "Por último, para controlar los valores de las etiquetas que se ponen sobre los ejes dispones de `plt.locator_params()`, `plt.minorticks_on()`, `plt.minorticks_off()`, `plt.tick_params()`, `plt.tick_label_format()`, `plt.xticks()` y `plt.yticks()`. \n",
    "\n",
    "Vamos a manejar la mayor parte de estas funciones mediante un ejemplo para que se vea más claro su uso. Imaginemos que queremos representar el valor medio diario de una variable durante un año, en el eje x queremos que aparezca solo los meses en el día del año en que empieza el mes."
   ]
  },
  {
   "cell_type": "code",
   "execution_count": null,
   "metadata": {},
   "outputs": [],
   "source": [
    "import calendar\n",
    "# Para generar el lugar del primer días de cada mes en un año\n",
    "dias = [np.array(calendar.mdays)[0:i].sum() + 1 for i in np.arange(12)+1]\n",
    "meses = calendar.month_name[1:13]  # Creamos una lista con los nombres de los meses\n",
    "\n",
    "plt.axes([0.1,0.2,0.8,0.65])\n",
    "plt.plot(np.arange(1,366), np.random.rand(365), label = 'valores al azar')  # Creamos un plot con 365 valores\n",
    "\n",
    "plt.xlim(-5,370)  # Los valores del eje y variarán entre -5 y 370\n",
    "plt.ylim(0,1.2)  # Los valores del eje y variarán entre 0 y 1.2\n",
    "\n",
    "plt.legend()  # Creamos la caja con la leyenda\n",
    "plt.title(u'Ejemplo de título')  # Ponemos un título\n",
    "plt.suptitle(u'Ejemplo de título superior')  # Ponemos un título superior\n",
    "plt.xlabel(u't (días)')\n",
    "plt.ylabel('Media diaria')\n",
    "\n",
    "plt.minorticks_on()  # Pedimos que se vean subrayas de división en los ejes\n",
    "# Colocamos las etiquetas, meses, en las posiciones, dias, con color azul y rotadas 45º\n",
    "_ = plt.xticks(dias, meses, size = 'small', color = 'b', rotation = 45)  \n"
   ]
  },
  {
   "cell_type": "markdown",
   "metadata": {},
   "source": [
    "## [3.](#Index) Representando series de datos"
   ]
  },
  {
   "cell_type": "markdown",
   "metadata": {},
   "source": [
    "Hasta ahora hemos visto como configurar las ventanas, manejo de las mismas, definir áreas de gráfico,… Ahora vamos a ir viendo los diferentes tipos de gráficos que existen."
   ]
  },
  {
   "cell_type": "markdown",
   "metadata": {},
   "source": [
    "### [3.1](#Index) plt.plot en profundidad"
   ]
  },
  {
   "cell_type": "markdown",
   "metadata": {},
   "source": [
    "Como habéis podido comprobar, en los ejemplos anteriores hemos estado viendo mucho `plt.plot()` que es lo que se suele usar para dibujar un gráfico simple de líneas representando los valores (x, f(x)). Ahora vamos a ver un ejemplo explicado para que veáis todas las posibilidades de `plt.plot()`."
   ]
  },
  {
   "cell_type": "code",
   "execution_count": null,
   "metadata": {
    "scrolled": true
   },
   "outputs": [],
   "source": [
    "x = np.arange(100)  # Valores de x\n",
    "y = np.random.rand(100)  # Valores de y\n",
    "\n",
    "plt.plot(x,y, color = 'black', label = '(x, f(x)')  # Dibujamos la evolución de f(x), frente a x\n",
    "# Destacamos los valores por encima de 0.9 colocándoles un marcador circular azul\n",
    "plt.plot(x[y > 0.9], y[y > 0.9], 'bo', label = 'f(x) > 0.9')  \n",
    "plt.axhspan(0.9, 1, alpha = 0.1)  # Colocamos una banda de color para los valores f(x) > 0.9\n",
    "plt.ylim(0,1.2)  # Limitamos el eje x\n",
    "\n",
    "plt.legend()  # Colocamos la leyenda\n",
    "plt.title(u'Representación de (x, f(x))')  # Colocamos el título del gráfico\n",
    "plt.xlabel('valores x')  # Colocamos la etiqueta en el eje x\n",
    "_ = plt.ylabel('valores f(x)')  # Colocamos la etiqueta en el eje y"
   ]
  },
  {
   "cell_type": "markdown",
   "metadata": {},
   "source": [
    "Este es el tipo de gráfico que suelo usar un 75% de las veces. Tipos de gráfico análogos a este son `plt.plot_date()`, que es similar a `plt.plot()` considerando uno o ambos ejes como fechas, y `plt.plotfile()`, que dibuja directamente desde los datos de un fichero."
   ]
  },
  {
   "cell_type": "markdown",
   "metadata": {},
   "source": [
    "### Ejercicio: Dibuja las longitudes de los sépalos"
   ]
  },
  {
   "cell_type": "markdown",
   "metadata": {},
   "source": [
    "Vamos a poner en práctica lo aprendido hasta ahora representando las longitudes de lós sépalos de las diferentes especies de iris. Para ello seleccionaremos del dataframe los valores de la longitud del sépalo para cada especie:"
   ]
  },
  {
   "cell_type": "code",
   "execution_count": null,
   "metadata": {},
   "outputs": [],
   "source": [
    "y_total = df[\"sepal_length\"].values\n",
    "x_total = df.index.values\n",
    "\n",
    "setosa = df[df[\"species\"] == \"setosa\"][\"sepal_length\"].values\n",
    "set_ix = df[df[\"species\"] == \"setosa\"][\"sepal_length\"].index.values\n",
    "\n",
    "versicolor = df[df[\"species\"] == \"versicolor\"][\"sepal_length\"].values\n",
    "versicolor_ix = df[df[\"species\"] == \"versicolor\"][\"sepal_length\"].index.values\n",
    "\n",
    "virginica = df[df[\"species\"] == \"virginica\"][\"sepal_length\"].values\n",
    "virginica_ix = df[df[\"species\"] == \"virginica\"][\"sepal_length\"].index.values"
   ]
  },
  {
   "cell_type": "code",
   "execution_count": null,
   "metadata": {},
   "outputs": [],
   "source": [
    "df[\"sepal_length\"].describe()"
   ]
  },
  {
   "cell_type": "markdown",
   "metadata": {},
   "source": [
    "Para resolver el ejercicio, dibuja un gráfico con las siguientes propiedades:\n",
    "1. Une todos los puntos mediantes una linea negra con estilo `dashed`.\n",
    "2. Representa los diferentes valores de longitub del sépalo como puntos de diferente color según la especie.\n",
    "    * Setosa --> Lila\n",
    "    * Versicolor --> Azul\n",
    "    * Virginica --> Verde\n",
    "\n",
    "3. Añade un círculo amarillo en el centro de las muestras del cuartil superior (longitud mayor que 6.4cm).\n",
    "4. Resalta los valores coloreados de amarillo con una franja azul con alpha = 0.1.\n",
    "5. Añade un título y etiquetas en los ejes."
   ]
  },
  {
   "cell_type": "markdown",
   "metadata": {},
   "source": [
    "Aqui podéis ver el resultado final de como tiene que quedar el gráfico."
   ]
  },
  {
   "cell_type": "markdown",
   "metadata": {},
   "source": [
    "![](../../images/05_02_plot.png)"
   ]
  },
  {
   "cell_type": "code",
   "execution_count": null,
   "metadata": {},
   "outputs": [],
   "source": [
    "plt.figure(figsize=(16,7))\n",
    "plt.plot(x_total, y_total)"
   ]
  },
  {
   "cell_type": "code",
   "execution_count": null,
   "metadata": {},
   "outputs": [],
   "source": [
    "%load ../../solutions/05_01_plot.py"
   ]
  },
  {
   "cell_type": "markdown",
   "metadata": {},
   "source": [
    "### [3.2](#Index) Diagramas de caja"
   ]
  },
  {
   "cell_type": "markdown",
   "metadata": {},
   "source": [
    "Lo siguiente que vamos a ver hoy es un diagrama de caja-bigote (*box plot* o *box-whisker diagram*). Este es un diagrama donde se puede ver un resumen de una serie de forma rápida y sencilla. En él se representa:\n",
    "\n",
    "- El primer cuartil y el tercer cuartil, que son los extremos de la caja.\n",
    "- El valor de la mediana (o segundo cuartil), que se representa mediante una línea dentro de la caja.\n",
    "- Los extremos de la serie que no se consideran anómalos, los llamados 'bigotes', que son los valores extremos que están dentro del rango de 1.5 veces el rango intercuartílico (IQR por sus siglas en inglés, *Inter Quartil Range*). \n",
    "\n",
    "- Los valores que quedan fuera de este rango que definamos, que como hemos comentado suele ser 1.5xIQR, se consideran valores anómalos u 'outliers' y se representan como puntos fuera de los bigotes. \n",
    "\n",
    "Por tanto, imaginemos que estamos representando la altura de las mujeres que viven en España, las mujeres que viven en Alemania y las mujeres que viven en Tailandia. Con un diagrama de caja-bigote podemos ver rápidamente como se distribuyen cada uno de estos conjuntos de datos y podemos compararlos visualmente entre ellos."
   ]
  },
  {
   "cell_type": "code",
   "execution_count": null,
   "metadata": {},
   "outputs": [],
   "source": [
    "# Creamos unos valores para la altura de 100 españolas\n",
    "alt_esp = np.random.randn(100)+165 + np.random.randn(100) * 10\n",
    "# Creamos unos valores para la altura de 100 alemanas\n",
    "alt_ale = np.random.randn(100)+172 + np.random.randn(100) * 12\n",
    "# Creamos unos valores para la altura de 100 tailandesas\n",
    "alt_tai = np.random.randn(100)+159 + np.random.randn(100) * 9 "
   ]
  },
  {
   "cell_type": "code",
   "execution_count": null,
   "metadata": {},
   "outputs": [],
   "source": [
    "# El valor por defecto para los bigotes es 1.5*IQR pero lo escribimos explícitamente\n",
    "plt.boxplot([alt_esp, alt_ale, alt_tai], sym = 'ko', whis = 1.5)  \n",
    "# Colocamos las etiquetas para cada distribución\n",
    "plt.xticks([1,2,3], ['Esp', 'Ale', 'Tai'], size = 'small', color = 'k') \n",
    "plt.ylabel(u'Altura (cm)')\n",
    "plt.title(\"Alturas inventadas de mujeres en diferentes paises\")"
   ]
  },
  {
   "cell_type": "markdown",
   "metadata": {},
   "source": [
    "Vemos como las alemanas presentan alturas superiores y las tailandesas son las que, en general, mostrarían alturas inferiores. En las alemanas hay algunas mujeres que quedan por encima de lo que hemos considerado como valores normales llegando a alturas por encima de los 200 cm. Las españolas se encontrarían entre unas alturas de unos 140 cm y unos 190 cm."
   ]
  },
  {
   "cell_type": "markdown",
   "metadata": {},
   "source": [
    "## Ejercicio: Boxplot de las longitudes de sépalo"
   ]
  },
  {
   "cell_type": "markdown",
   "metadata": {},
   "source": [
    "Vamos a realizar un diagrama de cajas para representar la distribucion de las longitudes de sépalo para cada tipo de iris. Usa el mismo formato que en el diagrama de cajas para la altura."
   ]
  },
  {
   "cell_type": "markdown",
   "metadata": {},
   "source": [
    "![](../../images/05_03_boxplot.png)"
   ]
  },
  {
   "cell_type": "code",
   "execution_count": null,
   "metadata": {},
   "outputs": [],
   "source": [
    "%load ../../solutions/05_02_boxplot.py"
   ]
  },
  {
   "cell_type": "markdown",
   "metadata": {},
   "source": [
    "## [4.](#Index) Gráficos de barras"
   ]
  },
  {
   "cell_type": "markdown",
   "metadata": {},
   "source": [
    "Hasta ahora hemos visto como configurar las ventanas, manejo de las mismas, definir áreas de gráfico, algunos tipos de gráficos… Ahora vamos a continuar viendo tipos de gráficos disponibles desde `matplotlib.pyplot`. En este caso nos vamos a centrar en los gráficos de barras."
   ]
  },
  {
   "cell_type": "markdown",
   "metadata": {},
   "source": [
    "### [4.1](#Index) Diagrama de barras"
   ]
  },
  {
   "cell_type": "markdown",
   "metadata": {},
   "source": [
    "Si en lugar de dibujar histogramas queremos dibujar gráficos de barras para representar, que se yo, la evolución de la prima de riesgo en los últimos días podemos usar `plt.bar`."
   ]
  },
  {
   "cell_type": "code",
   "execution_count": null,
   "metadata": {},
   "outputs": [],
   "source": [
    "import datetime as dt  # Importamos el módulo datetime\n",
    "prima = 600 + np.random.randn(5) * 10  # Valores inventados para la prima de riesgo\n",
    "# generamos las fechas de los últimos cinco días\n",
    "fechas = (dt.date.today() - dt.timedelta(5)) + dt.timedelta(1) * np.arange(5)"
   ]
  },
  {
   "cell_type": "code",
   "execution_count": null,
   "metadata": {},
   "outputs": [],
   "source": [
    "plt.axes((0.1, 0.3, 0.8, 0.6))  # Definimos la posición de los ejes\n",
    "plt.bar(np.arange(5), prima)  # Dibujamos el gráfico de barras\n",
    "plt.ylim(550,650)  # Limitamos los valores del eje y al range definido [450, 550]\n",
    "plt.title('prima de riesgo')  # Colocamos el título\n",
    "# Colocamos las etiquetas del eje x, en este caso, las fechas\n",
    "_ = plt.xticks(np.arange(5), fechas, rotation = 45)  "
   ]
  },
  {
   "cell_type": "markdown",
   "metadata": {},
   "source": [
    "### [4.2](#Index) Histogramas"
   ]
  },
  {
   "cell_type": "markdown",
   "metadata": {},
   "source": [
    "Para dibujar un [histograma](http://es.wikipedia.org/wiki/Histograma) podemos hacer uso de `plt.hist`. Un histograma suele ser un gráfico de barras donde se representa la ocurrencia de datos (frecuencia) en intervalos definidos. Lo que hace `plt.hist` es dibujar el histograma de un vector en función del número de intervalos (*bins*) que definamos. Como siempre, vamos a ver esto con un ejemplo de código a continuación. El resultado sería el siguiente, donde se representa el cálculo que haría la función [`np.histogram`](http://docs.scipy.org/doc/numpy/reference/generated/numpy.histogram.html) gráficamente y en un solo paso:"
   ]
  },
  {
   "cell_type": "code",
   "execution_count": null,
   "metadata": {},
   "outputs": [],
   "source": [
    "x = np.random.randn(10000)  # Definimos un vector de números aleatorios de una distribución normal\n",
    "# Dibuja un histograma dividiendo el vector x en 20 intervalos del mismo ancho\n",
    "_ = plt.hist(x, bins = 20, rwidth=0.9, histtype=\"barstacked\", linewidth=1, color=\"blue\")  "
   ]
  },
  {
   "cell_type": "code",
   "execution_count": null,
   "metadata": {},
   "outputs": [],
   "source": [
    "plt.hist?"
   ]
  },
  {
   "cell_type": "markdown",
   "metadata": {},
   "source": [
    "Podéis jugar también con [`np.histogram2d`](http://docs.scipy.org/doc/numpy/reference/generated/numpy.histogram2d.html#numpy.histogram2d), [`np.histogramdd`](http://docs.scipy.org/doc/numpy/reference/generated/numpy.histogramdd.html#numpy.histogramdd) y [`np.bincount`](http://docs.scipy.org/doc/numpy/reference/generated/numpy.bincount.html#numpy.bincount)"
   ]
  },
  {
   "cell_type": "markdown",
   "metadata": {},
   "source": [
    "### Ejercicio: Histograma de longitudes de pétalo"
   ]
  },
  {
   "cell_type": "markdown",
   "metadata": {},
   "source": [
    "Crea un gráfico que contenga dos histogramas representando las longitudes de pétalo de las iris setosa y las iris virginica con los colores por defecto."
   ]
  },
  {
   "cell_type": "markdown",
   "metadata": {},
   "source": [
    "![](../../images/05_04_hist.png)"
   ]
  },
  {
   "cell_type": "code",
   "execution_count": null,
   "metadata": {
    "scrolled": false
   },
   "outputs": [],
   "source": [
    "plt.figure(figsize=(10,5))\n"
   ]
  },
  {
   "cell_type": "code",
   "execution_count": null,
   "metadata": {
    "scrolled": true
   },
   "outputs": [],
   "source": [
    "%load ../../solutions/05_03_histograma.py"
   ]
  },
  {
   "cell_type": "markdown",
   "metadata": {},
   "source": [
    "## [5.](#Index) Gráficos 2D"
   ]
  },
  {
   "cell_type": "markdown",
   "metadata": {},
   "source": [
    "Matplotlib también ofrece la posibilidad de representar diferentes tipos de gráficos en los que comparar dos dimensiones diferentes de nuestros datos."
   ]
  },
  {
   "cell_type": "markdown",
   "metadata": {},
   "source": [
    "### [5.1](#Index) Scatter Plots"
   ]
  },
  {
   "cell_type": "markdown",
   "metadata": {},
   "source": [
    "El scatter plot es el tipo de gráfico más usado para comparar dos series de datos. `plt.scatter` representa los puntos de intersección entre los valores de `x` e `y` seleccionados."
   ]
  },
  {
   "cell_type": "code",
   "execution_count": null,
   "metadata": {},
   "outputs": [],
   "source": [
    "x = np.random.rand(10)\n",
    "y = np.random.rand(10)\n",
    "\n",
    "_ = plt.scatter(x, y)"
   ]
  },
  {
   "cell_type": "markdown",
   "metadata": {},
   "source": [
    "Además de comparar dos serires de datos, también es posible asignar colores a cada uno de los puntos de la serie, ya sea para resaltar alguna de las propiedades de nuestros datos, o para representar una tercera dimensión mediante el color de cada punto. Para ello utilizaremos el parámetro `c` (de color)."
   ]
  },
  {
   "cell_type": "code",
   "execution_count": null,
   "metadata": {},
   "outputs": [],
   "source": [
    "_ = plt.scatter(x, y, c=y)"
   ]
  },
  {
   "cell_type": "markdown",
   "metadata": {},
   "source": [
    "También es posible definir por separado el tamaño de cada uno de los puntos en caso de querer resaltar alguna otra propiedad de los datos. Para ello utilizaremos el parámetro `s` (de *size*). Si este valor es un array, asignara un valor de tamaño diferente a cada punto de la serie, mientras que si es un `float` o un `int` eleccionaremos el mismo tamaño en todos los puntos."
   ]
  },
  {
   "cell_type": "code",
   "execution_count": null,
   "metadata": {},
   "outputs": [],
   "source": [
    "s = np.random.rand(10)*200\n",
    "\n",
    "_ = plt.scatter(x, y, s=s)"
   ]
  },
  {
   "cell_type": "markdown",
   "metadata": {},
   "source": [
    "Otra de las propiedades visuales de los puntos del scatterplot es el parámetro `alpha`, que controla la transparencia de los puntos del gráfico. Esta propiedad es útil cuando existe superposicion entre diferentes puntos, ya que ayuda a discriminar areas del gráfico con mucha densidad de puntos respecto de las menos densas."
   ]
  },
  {
   "cell_type": "code",
   "execution_count": null,
   "metadata": {},
   "outputs": [],
   "source": [
    "_ = plt.scatter(np.random.standard_normal(3000), np.random.standard_normal(3000), alpha=0.15)"
   ]
  },
  {
   "cell_type": "markdown",
   "metadata": {},
   "source": [
    "### Ejercicio: Scatter plot de longitudes de pétalo y sépalo"
   ]
  },
  {
   "cell_type": "markdown",
   "metadata": {},
   "source": [
    "Primero crearemos arrays que contengan las columnas del dataframe con variables numéricas para todos los especímenes."
   ]
  },
  {
   "cell_type": "code",
   "execution_count": null,
   "metadata": {},
   "outputs": [],
   "source": [
    "pw_all = df[\"petal_width\"].values\n",
    "pl_all = df[\"petal_length\"].values\n",
    "sl_all = df[\"sepal_length\"].values\n",
    "sw_all = df[\"sepal_width\"].values"
   ]
  },
  {
   "cell_type": "markdown",
   "metadata": {},
   "source": [
    "Ahora crearemos un array que contendrá el nombre del color asignado a cada especie segun el siguiente diccionario:"
   ]
  },
  {
   "cell_type": "code",
   "execution_count": null,
   "metadata": {},
   "outputs": [],
   "source": [
    "color_dict = {\"setosa\": \"blue\",\n",
    "             \"virginica\": \"green\",\n",
    "             \"versicolor\": \"orange\"\n",
    "            }\n",
    "species = df[\"species\"].replace(color_dict).values\n"
   ]
  },
  {
   "cell_type": "markdown",
   "metadata": {},
   "source": [
    "Representa en un único scatter plot los tres tipos diferentes de iris y compara sus propiedades. Para ello mapea los parámtros del gráfico de la siguiente manera:\n",
    "- **Eje x**: longitud de pétalo\n",
    "- **Eje y**: longitud de sépalo\n",
    "- **Tamaño del punto**: Ancho de pétalo * 75\n",
    "- **Color**: Especie\n",
    "- **Alpha**: 0.7"
   ]
  },
  {
   "cell_type": "markdown",
   "metadata": {},
   "source": [
    "![](../../images/05_05_scatter.png)"
   ]
  },
  {
   "cell_type": "code",
   "execution_count": null,
   "metadata": {},
   "outputs": [],
   "source": [
    "plt.figure(figsize=(14, 6))"
   ]
  },
  {
   "cell_type": "code",
   "execution_count": null,
   "metadata": {},
   "outputs": [],
   "source": [
    "%load ../../solutions/05_04_scatter.py"
   ]
  },
  {
   "cell_type": "markdown",
   "metadata": {},
   "source": [
    "### [5.2](#Index) Gráficos de contorno"
   ]
  },
  {
   "cell_type": "markdown",
   "metadata": {},
   "source": [
    "Es posible crear gráficos de contorno sobre mallas bidimensionales con `plt.contour` y `plt.contourf`. Pero, ¿qué sucede si tenemos datos que están repartidos de forma irregular? En este caso podemos hacer uso de `plt.tricontour` y de `plt.tricontourf`, donde el valor de Z no tiene que ser 2D.\n",
    "\n",
    "Para ver su funcionamiento pensemos en un caso real. Imaginad que tenéis una red de medidas (por ejemplo, temperaturas) repartidas geográficamente en una zona (AVISO, como siempre, los datos que vamos a representar no tienen ningún sentido físico ni pretenden representar una situación real, y solo se usan para ver el funcionamiento de `tricontour` y `tricontourf`). \n",
    "\n",
    "Además, se ha usado `plt.scatter` para representar la posición de las estaciones de medida:"
   ]
  },
  {
   "cell_type": "code",
   "execution_count": null,
   "metadata": {},
   "outputs": [],
   "source": [
    "x = np.random.rand(20)  # posiciones X de nuestra red de medidas\n",
    "y = np.random.rand(20)  # posiciones Y de nuestra red de medidas\n",
    "t = np.random.rand(20)*3000  # valores de Temperatura (ºK) en las posiciones (X, Y)"
   ]
  },
  {
   "cell_type": "code",
   "execution_count": null,
   "metadata": {},
   "outputs": [],
   "source": [
    "plt.tricontourf(x, y, t)  # Pintamos las triangulaciones con contornos de color\n",
    "plt.tricontour(x, y, t, colors = 'k')  # Pintamos las líneas de contorno en color negro\n",
    "plt.scatter(x, y)  # Pintamos la posición de las estaciones de medida."
   ]
  },
  {
   "cell_type": "markdown",
   "metadata": {},
   "source": [
    "### Ejercicio: Gráfico de contorno"
   ]
  },
  {
   "cell_type": "markdown",
   "metadata": {},
   "source": [
    "En este ejercicio vamos a crear un mapa de contorno representando diferentes propiedades del dataset.\n",
    "- **Eje x**: ancho del pétalo\n",
    "- **Eje y**: ancho del sépalo\n",
    "- **Color de los puntos**: red\n",
    "- **Alpha**: 0.5"
   ]
  },
  {
   "cell_type": "markdown",
   "metadata": {},
   "source": [
    "![](../../images/05_06_contour.png)"
   ]
  },
  {
   "cell_type": "code",
   "execution_count": null,
   "metadata": {},
   "outputs": [],
   "source": [
    "%load ../../solutions/05_05_contour.py"
   ]
  },
  {
   "cell_type": "markdown",
   "metadata": {},
   "source": [
    "## Otras librerias de visualización"
   ]
  },
  {
   "cell_type": "markdown",
   "metadata": {},
   "source": [
    "Además de `matplotlib`, Python cuenta con otras librerias de visualización de datos que también pueden resultar muy útiles, como por ejemplo:\n",
    "\n",
    "- [Integración con pandas](https://pandas.pydata.org/pandas-docs/stable/visualization.html): Pandas incorpora una interfaz para visualizar datos de forma rápida utilizando matplotlib.\n",
    "- [Seaborn](https://seaborn.pydata.org/): Basado en matplotlib, esta librería permite realizar plots de analisis estadístico de forma rápida y fácil, además de proporcionar estilos por defecto más cuidados que matplotlib. Por eso suele utilizarse para crear gráficos estilo matplotlib con una interfaz de \"alto nivel\".\n",
    "- [Bokeh](https://bokeh.pydata.org/en/latest/): Permite crear gráficos interactivos en 2D mediante javascript, además de ofrecer utilidades para la representación de flujos de datos. Muy versatil y potente.\n",
    "- [Plotly](https://plot.ly/): Este proyecto multiplataforma de código abierto permite crear todo tipo de gráficos interactivos de forma sencilla. Es la mejor librería para representar gráficos en 3D\n",
    "- [Data Shader](http://datashader.org): Libreria que ofrece una interfaz de alto nivel para representar grandes cantidades de datos. Puede utilizar tanto `bokeh` como `matplotlib` como backend."
   ]
  }
 ],
 "metadata": {
  "kernelspec": {
   "display_name": "Python 3",
   "language": "python",
   "name": "python3"
  },
  "language_info": {
   "codemirror_mode": {
    "name": "ipython",
    "version": 3
   },
   "file_extension": ".py",
   "mimetype": "text/x-python",
   "name": "python",
   "nbconvert_exporter": "python",
   "pygments_lexer": "ipython3",
   "version": "3.6.5"
  }
 },
 "nbformat": 4,
 "nbformat_minor": 1
}
