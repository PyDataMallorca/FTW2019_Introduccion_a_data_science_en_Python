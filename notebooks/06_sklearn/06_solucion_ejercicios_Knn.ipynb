{
 "cells": [
  {
   "cell_type": "code",
   "execution_count": null,
   "metadata": {},
   "outputs": [],
   "source": [
    "import warnings\n",
    "import pandas as pd\n",
    "import numpy as np\n",
    "import matplotlib.pyplot as plt\n",
    "from sklearn import preprocessing\n",
    "import seaborn as sns\n",
    "from sklearn.model_selection import train_test_split\n",
    "from sklearn.neighbors import KNeighborsClassifier\n",
    "from sklearn.metrics import classification_report, accuracy_score, confusion_matrix\n",
    "\n",
    "\n",
    "\n",
    "%matplotlib inline"
   ]
  },
  {
   "cell_type": "markdown",
   "metadata": {},
   "source": [
    "#  Cancer  Data Set  \n",
    "\n",
    "### Breast Cancer Wisconsin (Diagnostic) Data Set\n",
    "\n",
    "**Abstract:** Diagnostic Wisconsin Breast Cancer Database\n",
    "Source:\n",
    "\n",
    "Creators:\n",
    "\n",
    "1. Dr. William H. Wolberg, General Surgery Dept.\n",
    "University of Wisconsin, Clinical Sciences Center\n",
    "Madison, WI 53792\n",
    "wolberg '@' eagle.surgery.wisc.edu\n",
    "\n",
    "2. W. Nick Street, Computer Sciences Dept.\n",
    "University of Wisconsin, 1210 West Dayton St., Madison, WI 53706\n",
    "street '@' cs.wisc.edu 608-262-6619\n",
    "\n",
    "3. Olvi L. Mangasarian, Computer Sciences Dept.\n",
    "University of Wisconsin, 1210 West Dayton St., Madison, WI 53706\n",
    "olvi '@' cs.wisc.edu\n",
    "\n",
    "### Información del conjunto de datos:\n",
    "\n",
    "Las características se calculan a partir de una imagen digitalizada de aspiración con aguja fina (PAAF) de una masas mamarias. Describen las características de los núcleos celulares presentes en la imagen (más detalles http://pages.cs.wisc.edu/~street/images/)\n",
    "\n",
    "Attribute Information:\n",
    "\n",
    "1. ID number\n",
    "2. Diagnosis (M = malignant, B = benign) \n",
    "\n",
    "**Ten real-valued features are computed for each cell nucleus:**\n",
    "\n",
    "a) radius (mean of distances from center to points on the perimeter)\n",
    "\n",
    "b) texture (standard deviation of gray-scale values)\n",
    "\n",
    "c) perimeter\n",
    "\n",
    "d) area\n",
    "\n",
    "e) smoothness (local variation in radius lengths)\n",
    "\n",
    "f) compactness (perimeter^2 / area - 1.0)\n",
    "\n",
    "g) concavity (severity of concave portions of the contour)\n",
    "\n",
    "h) concave points (number of concave portions of the contour)\n",
    "\n",
    "i) symmetry\n",
    "\n",
    "j) fractal dimension (\"coastline approximation\" - 1)"
   ]
  },
  {
   "cell_type": "code",
   "execution_count": null,
   "metadata": {},
   "outputs": [],
   "source": [
    "# Cargamos los datos del fichero CSV\n",
    "cancer_df = pd.read_csv('../../data/06_breast-cancer-wisconsin-data.csv')\n",
    "\n",
    "# Imprimimos los datos cargados con pandas\n",
    "#df.describe()\n",
    "#df = df.set_index('id')\n",
    "cancer_df.info()"
   ]
  },
  {
   "cell_type": "markdown",
   "metadata": {},
   "source": [
    "## Preparamos Datos"
   ]
  },
  {
   "cell_type": "code",
   "execution_count": null,
   "metadata": {},
   "outputs": [],
   "source": [
    "le = preprocessing.LabelEncoder()\n",
    "le.fit(cancer_df['diagnosis'])\n",
    "cancer_df['diagnosis_cod'] = le.transform(cancer_df['diagnosis'])\n",
    "cancer_df = cancer_df.drop(['Unnamed: 32','id','diagnosis'], axis=1)\n",
    "cancer_df\n",
    "#le.inverse_transform(iris_df.species_cod)"
   ]
  },
  {
   "cell_type": "code",
   "execution_count": null,
   "metadata": {},
   "outputs": [],
   "source": [
    "# separamos datos en data y target\n",
    "cancer_data = cancer_df.drop(['diagnosis_cod'], axis=1)\n",
    "cancer_target = cancer_df.diagnosis_cod"
   ]
  },
  {
   "cell_type": "code",
   "execution_count": null,
   "metadata": {},
   "outputs": [],
   "source": [
    "# Separamos los Datos.... Entrenamiento y test\n",
    "#?  train_test_split()\n",
    "\n",
    "\n",
    "X_train, X_test, y_train, y_test = train_test_split(cancer_data, cancer_target,\n",
    "                                                    test_size=0.33,\n",
    "                                                    random_state=None,\n",
    "                                                    shuffle =None)\n",
    "\n",
    "print('Set de datos para Entrenamiento =',len(X_train))\n",
    "print('Set de datos para Test',len(X_test))\n",
    "print('Total',len(X_test)+len(X_train))\n",
    "print('Data Shape=',X_test.shape)\n",
    "print('Target Shape =',y_test.shape)\n",
    "\n",
    "X_train.head()\n",
    "#X_train.columns"
   ]
  },
  {
   "cell_type": "markdown",
   "metadata": {},
   "source": [
    "# ======== Knn Cancer Data Set ========="
   ]
  },
  {
   "cell_type": "code",
   "execution_count": null,
   "metadata": {},
   "outputs": [],
   "source": [
    "# Create two lists for training and test accuracies\n",
    "training_accuracy = []\n",
    "test_accuracy = []\n",
    "\n",
    "# Define a range of 1 to 10 (included) neighbors to be tested\n",
    "neighbors_settings = range(1,20)\n",
    "\n",
    "# Loop with the KNN through the different number of neighbors to determine the most appropriate (best)\n",
    "for n_neighbors in neighbors_settings:\n",
    "    clf = KNeighborsClassifier(n_neighbors=n_neighbors,\n",
    "                               algorithm='auto',\n",
    "                               weights='uniform')\n",
    "    clf.fit(X_train, y_train)\n",
    "    training_accuracy.append(clf.score(X_train, y_train))\n",
    "    test_accuracy.append(clf.score(X_test, y_test))\n",
    "\n",
    "# Visualize results - to help with deciding which n_neigbors yields the best results (n_neighbors=6, in this case)\n",
    "plt.plot(neighbors_settings, training_accuracy, label='Accuracy of the training set', marker='o')\n",
    "plt.plot(neighbors_settings, test_accuracy, label='Accuracy of the test set', marker='o')\n",
    "plt.ylabel('Accuracy')\n",
    "plt.xlabel('Number of Neighbors')\n",
    "plt.legend()\n"
   ]
  },
  {
   "cell_type": "code",
   "execution_count": null,
   "metadata": {},
   "outputs": [],
   "source": [
    "clf = KNeighborsClassifier(n_neighbors=5,weights='uniform', algorithm='auto')\n",
    "clf.fit(X_train, y_train)\n",
    "print (\"Score with data Tes\",clf.score(X_test,y_test))\n",
    "print (\"Score with data Train\",clf.score(X_train,y_train))"
   ]
  },
  {
   "cell_type": "markdown",
   "metadata": {},
   "source": [
    "#  Alguna Predicción "
   ]
  },
  {
   "cell_type": "code",
   "execution_count": null,
   "metadata": {},
   "outputs": [],
   "source": [
    "warnings.filterwarnings('ignore')\n",
    "ind = 78\n",
    "print(cancer_data.iloc[ind])\n",
    "print('specie',cancer_target.iloc[ind], le.inverse_transform(cancer_target.iloc[[ind]]))\n",
    "x_new = cancer_data.iloc[ind]\n",
    "\n",
    "print('\\n======== PREDICTION ========')\n",
    "prediction = clf.predict([x_new.values])\n",
    "prediction_pb = clf.predict_proba([x_new.values])\n",
    "print('Specie prediction',prediction, le.inverse_transform(prediction))\n",
    "print('Probability Specie prediction',prediction_pb)"
   ]
  },
  {
   "cell_type": "markdown",
   "metadata": {},
   "source": [
    "# Clasification Report"
   ]
  },
  {
   "cell_type": "code",
   "execution_count": null,
   "metadata": {},
   "outputs": [],
   "source": [
    "p = clf.predict(X_test)\n",
    "\n",
    "print ('Accuracy:', accuracy_score(y_test, p))\n",
    "print ('\\nConfusion Matrix:\\n', confusion_matrix(y_test, p))\n",
    "print ('\\nClassification Report:', classification_report(y_test, p))\n"
   ]
  },
  {
   "cell_type": "markdown",
   "metadata": {},
   "source": [
    "Diabetes Data Set\n",
    "\n",
    "Michael Kahn, MD, PhD, Universidad de Washington, St. Louis, MO\n",
    "Información del conjunto de datos:\n",
    "\n",
    "Los registros de pacientes con diabetes se obtuvieron de dos fuentes: a) un dispositivo de registro electrónico automático y b) registros en papel.\n",
    "\n",
    "El dispositivo automático tenía un reloj interno para los eventos de marca de tiempo, mientras que los registros en papel solo proporcionaban espacios de \"tiempo lógico\" (desayuno, almuerzo, cena, hora de acostarse).\n",
    "\n",
    "Para los registros en papel, se asignaron horarios fijos para el desayuno (08:00), el almuerzo (12:00), la cena (18:00) y la hora de acostarse (22:00). Por lo tanto, los registros en papel tienen tiempos de grabación uniformes ficticios, mientras que los registros electrónicos tienen marcas de tiempo más realistas.\n",
    "\n",
    "Los archivos de diabetes constan de cuatro campos por registro. Cada campo está separado por una pestaña y cada registro está separado por una nueva línea.\n",
    "\n",
    "Nombres de archivos y formato\n",
    "\n",
    "(1) Fecha en formato MM-DD-YYYY (2) Tiempo en formato XX: YY (3) Código (4) Valor\n",
    "\n",
    "El campo Código se descifra de la siguiente manera:\n",
    "\n",
    "33 = Dosis de insulina regular\n",
    "\n",
    "34 = dosis de insulina NPH\n",
    "\n",
    "35 = dosis de insulina UltraLente\n",
    "\n",
    "48 = medición de glucosa en sangre no especificada\n",
    "\n",
    "57 = medición de glucosa en sangre no especificada\n",
    "\n",
    "58 = medición de glucosa en sangre antes del desayuno\n",
    "\n",
    "59 = medición de glucosa en sangre después del desayuno\n",
    "\n",
    "60 = medición de glucosa en sangre antes del almuerzo\n",
    "\n",
    "61 = medición de glucosa en sangre después del almuerzo\n",
    "\n",
    "62 = medición de glucosa en sangre antes de la cena\n",
    "\n",
    "63 = medición de glucosa en sangre después de la cena\n",
    "\n",
    "64 = Medición de glucosa en sangre antes del aperitivo\n",
    "\n",
    "65 = Síntomas de hipoglucemia\n",
    "\n",
    "66 = Ingestión típica de comida\n",
    "\n",
    "67 = Ingestión de comida más de lo habitual\n",
    "\n",
    "68 = ingesta de comida menos de lo usual\n",
    "\n",
    "69 = actividad típica de ejercicio\n",
    "\n",
    "70 = Actividad de ejercicio más de lo habitual\n",
    "\n",
    "71 = actividad de ejercicio menos de lo\n"
   ]
  },
  {
   "cell_type": "code",
   "execution_count": null,
   "metadata": {},
   "outputs": [],
   "source": [
    "# Cargamos los datos del fichero CSV\n",
    "diabetes_df = pd.read_csv('../../data/06_diabetes.csv')\n",
    "\n",
    "# Imprimimos los datos cargados con pandas\n",
    "#diabetes_df.info()\n",
    "diabetes_df"
   ]
  },
  {
   "cell_type": "code",
   "execution_count": null,
   "metadata": {},
   "outputs": [],
   "source": [
    "# separamos datos en data y target\n",
    "diabetes_data   = diabetes_df.drop(['diagnosis'], axis=1)\n",
    "diabetes_target = diabetes_df.diagnosis"
   ]
  },
  {
   "cell_type": "code",
   "execution_count": null,
   "metadata": {},
   "outputs": [],
   "source": [
    "# Separamos los Datos.... Entrenamiento y test\n",
    "#?  train_test_split()\n",
    "\n",
    "from sklearn.model_selection import train_test_split\n",
    "X_train, X_test, y_train, y_test = train_test_split(diabetes_data, diabetes_target,\n",
    "                                                    test_size=0.33,\n",
    "                                                    random_state=None,\n",
    "                                                    shuffle =None)\n",
    "\n",
    "print('Set de datos para Entrenamiento =',len(X_train))\n",
    "print('Set de datos para Test',len(X_test))\n",
    "print('Total',len(X_test)+len(X_train))\n",
    "print('Data Shape=',X_test.shape)\n",
    "print('Target Shape =',y_test.shape)\n",
    "\n",
    "X_train.head()\n",
    "#X_train.columns"
   ]
  },
  {
   "cell_type": "code",
   "execution_count": null,
   "metadata": {},
   "outputs": [],
   "source": [
    "# Create two lists for training and test accuracies\n",
    "training_accuracy = []\n",
    "test_accuracy = []\n",
    "\n",
    "# Define a range of 1 to 10 (included) neighbors to be tested\n",
    "neighbors_settings = range(1,20)\n",
    "\n",
    "# Loop with the KNN through the different number of neighbors to determine the most appropriate (best)\n",
    "for n_neighbors in neighbors_settings:\n",
    "    clf = KNeighborsClassifier(n_neighbors=n_neighbors,\n",
    "                               algorithm='auto',\n",
    "                               weights='uniform')\n",
    "    clf.fit(X_train, y_train)\n",
    "    training_accuracy.append(clf.score(X_train, y_train))\n",
    "    test_accuracy.append(clf.score(X_test, y_test))\n",
    "\n",
    "# Visualize results - to help with deciding which n_neigbors yields the best results (n_neighbors=6, in this case)\n",
    "plt.plot(neighbors_settings, training_accuracy, label='Accuracy of the training set', marker='o')\n",
    "plt.plot(neighbors_settings, test_accuracy, label='Accuracy of the test set', marker='o')\n",
    "plt.ylabel('Accuracy')\n",
    "plt.xlabel('Number of Neighbors')\n",
    "plt.legend()"
   ]
  },
  {
   "cell_type": "code",
   "execution_count": null,
   "metadata": {},
   "outputs": [],
   "source": [
    "clf = KNeighborsClassifier(n_neighbors=15,weights='uniform', algorithm='auto')\n",
    "clf.fit(X_train, y_train)\n",
    "print (\"Score with data Tes\",clf.score(X_test,y_test))\n",
    "print (\"Score with data Train\",clf.score(X_train,y_train))"
   ]
  },
  {
   "cell_type": "markdown",
   "metadata": {},
   "source": [
    "# ========= Alguna Predicción ========"
   ]
  },
  {
   "cell_type": "code",
   "execution_count": null,
   "metadata": {},
   "outputs": [],
   "source": [
    "ind = 78\n",
    "print(diabetes_data.iloc[ind])\n",
    "print('specie',diabetes_target.iloc[ind], le.inverse_transform(diabetes_target.iloc[[ind]]))\n",
    "x_new = diabetes_data.ix[ind]\n",
    "\n",
    "print('\\n======== PREDICTION ========')\n",
    "prediction = clf.predict([x_new.values])\n",
    "prediction_pb = clf.predict_proba([x_new.values])\n",
    "print('Specie prediction',prediction, le.inverse_transform(prediction))\n",
    "print('Probability Specie prediction',prediction_pb)"
   ]
  },
  {
   "cell_type": "markdown",
   "metadata": {},
   "source": [
    "# ============ Classification Report============"
   ]
  },
  {
   "cell_type": "code",
   "execution_count": null,
   "metadata": {},
   "outputs": [],
   "source": [
    "p = clf.predict(X_test)\n",
    "\n",
    "print ('Accuracy:', accuracy_score(y_test, p))\n",
    "print ('\\nConfusion Matrix:\\n', confusion_matrix(y_test, p))\n",
    "print ('\\nClassification Report:', classification_report(y_test, p))\n"
   ]
  }
 ],
 "metadata": {
  "kernelspec": {
   "display_name": "Python 3",
   "language": "python",
   "name": "python3"
  },
  "language_info": {
   "codemirror_mode": {
    "name": "ipython",
    "version": 3
   },
   "file_extension": ".py",
   "mimetype": "text/x-python",
   "name": "python",
   "nbconvert_exporter": "python",
   "pygments_lexer": "ipython3",
   "version": "3.5.2"
  }
 },
 "nbformat": 4,
 "nbformat_minor": 2
}
